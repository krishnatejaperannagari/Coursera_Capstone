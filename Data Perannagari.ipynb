{
    "cells": [
        {
            "cell_type": "markdown",
            "metadata": {},
            "source": "## Details about educational institutions in San Fransisco"
        },
        {
            "cell_type": "markdown",
            "metadata": {},
            "source": "In the current project we will be using the data file hosted at [DataSF](https://datasf.org/). The dataset contains details about various educational instituions in San fransisco. For our current study we will be using only the columns institution and address."
        },
        {
            "cell_type": "code",
            "execution_count": 6,
            "metadata": {},
            "outputs": [
                {
                    "data": {
                        "text/html": "<div>\n<style scoped>\n    .dataframe tbody tr th:only-of-type {\n        vertical-align: middle;\n    }\n\n    .dataframe tbody tr th {\n        vertical-align: top;\n    }\n\n    .dataframe thead th {\n        text-align: right;\n    }\n</style>\n<table border=\"1\" class=\"dataframe\">\n  <thead>\n    <tr style=\"text-align: right;\">\n      <th></th>\n      <th>the_geom</th>\n      <th>institutio</th>\n      <th>campus</th>\n      <th>address</th>\n      <th>webaddress</th>\n      <th>phone</th>\n      <th>st_area_sh</th>\n      <th>st_length_</th>\n    </tr>\n  </thead>\n  <tbody>\n    <tr>\n      <th>0</th>\n      <td>MULTIPOLYGON (((-122.41422959861103 37.7811707...</td>\n      <td>University of California Hastings College of Law</td>\n      <td>&lt;Null&gt;</td>\n      <td>100 McAllister St</td>\n      <td>www.uchastings.edu</td>\n      <td>4155654600</td>\n      <td>13049.073407</td>\n      <td>492.593768</td>\n    </tr>\n    <tr>\n      <th>1</th>\n      <td>MULTIPOLYGON (((-122.41529196158669 37.7812009...</td>\n      <td>University of California Hastings College of Law</td>\n      <td>&lt;Null&gt;</td>\n      <td>198 McAllister St</td>\n      <td>www.uchastings.edu</td>\n      <td>4155654600</td>\n      <td>22642.056685</td>\n      <td>604.439178</td>\n    </tr>\n    <tr>\n      <th>2</th>\n      <td>MULTIPOLYGON (((-122.41701008790089 37.7813667...</td>\n      <td>University of California Hastings College of Law</td>\n      <td>&lt;Null&gt;</td>\n      <td>376 Larkin St</td>\n      <td>www.uchastings.edu</td>\n      <td>4155654600</td>\n      <td>25762.162205</td>\n      <td>650.066091</td>\n    </tr>\n    <tr>\n      <th>3</th>\n      <td>MULTIPOLYGON (((-122.41054924969892 37.8078130...</td>\n      <td>Academy of Art University</td>\n      <td>NaN</td>\n      <td>2300 Stockton St</td>\n      <td>NaN</td>\n      <td>0</td>\n      <td>37469.166147</td>\n      <td>821.907182</td>\n    </tr>\n    <tr>\n      <th>4</th>\n      <td>MULTIPOLYGON (((-122.41521002465295 37.8034172...</td>\n      <td>Academy of Art University</td>\n      <td>NaN</td>\n      <td>701 Chestnut St</td>\n      <td>NaN</td>\n      <td>0</td>\n      <td>10364.131930</td>\n      <td>432.953369</td>\n    </tr>\n  </tbody>\n</table>\n</div>",
                        "text/plain": "                                            the_geom  \\\n0  MULTIPOLYGON (((-122.41422959861103 37.7811707...   \n1  MULTIPOLYGON (((-122.41529196158669 37.7812009...   \n2  MULTIPOLYGON (((-122.41701008790089 37.7813667...   \n3  MULTIPOLYGON (((-122.41054924969892 37.8078130...   \n4  MULTIPOLYGON (((-122.41521002465295 37.8034172...   \n\n                                         institutio  campus  \\\n0  University of California Hastings College of Law  <Null>   \n1  University of California Hastings College of Law  <Null>   \n2  University of California Hastings College of Law  <Null>   \n3                         Academy of Art University     NaN   \n4                         Academy of Art University     NaN   \n\n             address          webaddress       phone    st_area_sh  st_length_  \n0  100 McAllister St  www.uchastings.edu  4155654600  13049.073407  492.593768  \n1  198 McAllister St  www.uchastings.edu  4155654600  22642.056685  604.439178  \n2      376 Larkin St  www.uchastings.edu  4155654600  25762.162205  650.066091  \n3   2300 Stockton St                 NaN           0  37469.166147  821.907182  \n4    701 Chestnut St                 NaN           0  10364.131930  432.953369  "
                    },
                    "execution_count": 6,
                    "metadata": {},
                    "output_type": "execute_result"
                }
            ],
            "source": "import pandas as pd\n\nedu_df = pd.read_csv('https://data.sfgov.org/api/views/6adp-a5yv/rows.csv?accessType=DOWNLOAD')\nedu_df.head()"
        },
        {
            "cell_type": "code",
            "execution_count": 9,
            "metadata": {},
            "outputs": [
                {
                    "data": {
                        "text/html": "<div>\n<style scoped>\n    .dataframe tbody tr th:only-of-type {\n        vertical-align: middle;\n    }\n\n    .dataframe tbody tr th {\n        vertical-align: top;\n    }\n\n    .dataframe thead th {\n        text-align: right;\n    }\n</style>\n<table border=\"1\" class=\"dataframe\">\n  <thead>\n    <tr style=\"text-align: right;\">\n      <th></th>\n      <th>Institution</th>\n      <th>Address</th>\n      <th>Latitude</th>\n      <th>Longitude</th>\n    </tr>\n  </thead>\n  <tbody>\n    <tr>\n      <th>0</th>\n      <td>University of California Hastings College of Law</td>\n      <td>100 McAllister St</td>\n      <td>NaN</td>\n      <td>NaN</td>\n    </tr>\n    <tr>\n      <th>1</th>\n      <td>University of California Hastings College of Law</td>\n      <td>198 McAllister St</td>\n      <td>NaN</td>\n      <td>NaN</td>\n    </tr>\n    <tr>\n      <th>2</th>\n      <td>University of California Hastings College of Law</td>\n      <td>376 Larkin St</td>\n      <td>NaN</td>\n      <td>NaN</td>\n    </tr>\n    <tr>\n      <th>3</th>\n      <td>Academy of Art University</td>\n      <td>2300 Stockton St</td>\n      <td>NaN</td>\n      <td>NaN</td>\n    </tr>\n    <tr>\n      <th>4</th>\n      <td>Academy of Art University</td>\n      <td>701 Chestnut St</td>\n      <td>NaN</td>\n      <td>NaN</td>\n    </tr>\n  </tbody>\n</table>\n</div>",
                        "text/plain": "                                        Institution            Address  \\\n0  University of California Hastings College of Law  100 McAllister St   \n1  University of California Hastings College of Law  198 McAllister St   \n2  University of California Hastings College of Law      376 Larkin St   \n3                         Academy of Art University   2300 Stockton St   \n4                         Academy of Art University    701 Chestnut St   \n\n   Latitude  Longitude  \n0       NaN        NaN  \n1       NaN        NaN  \n2       NaN        NaN  \n3       NaN        NaN  \n4       NaN        NaN  "
                    },
                    "execution_count": 9,
                    "metadata": {},
                    "output_type": "execute_result"
                }
            ],
            "source": "import numpy as np\n\nedu_df.drop(['the_geom', 'campus', 'webaddress', 'phone', 'st_area_sh', 'st_length_'], axis=1, inplace=True)\nedu_df.rename(columns = {\"institutio\": \"Institution\", \"address\":\"Address\",}, inplace=True)\n\nedu_df['Latitude'] = np.nan\nedu_df['Longitude'] = np.nan\n\nedu_df.head()"
        },
        {
            "cell_type": "markdown",
            "metadata": {},
            "source": "## Getting coordinates of institution"
        },
        {
            "cell_type": "markdown",
            "metadata": {},
            "source": "We will be using the OpenCageGeocode API to get the accurate location of the institution. More detail about the aPI can be found at [OpenCageData.com](https://opencagedata.com/)"
        },
        {
            "cell_type": "code",
            "execution_count": 10,
            "metadata": {},
            "outputs": [
                {
                    "name": "stdout",
                    "output_type": "stream",
                    "text": "Coordinates Obtained\n"
                },
                {
                    "data": {
                        "text/html": "<div>\n<style scoped>\n    .dataframe tbody tr th:only-of-type {\n        vertical-align: middle;\n    }\n\n    .dataframe tbody tr th {\n        vertical-align: top;\n    }\n\n    .dataframe thead th {\n        text-align: right;\n    }\n</style>\n<table border=\"1\" class=\"dataframe\">\n  <thead>\n    <tr style=\"text-align: right;\">\n      <th></th>\n      <th>Institution</th>\n      <th>Address</th>\n      <th>Latitude</th>\n      <th>Longitude</th>\n    </tr>\n  </thead>\n  <tbody>\n    <tr>\n      <th>0</th>\n      <td>University of California Hastings College of Law</td>\n      <td>100 McAllister St</td>\n      <td>37.780989</td>\n      <td>-122.413846</td>\n    </tr>\n    <tr>\n      <th>1</th>\n      <td>University of California Hastings College of Law</td>\n      <td>198 McAllister St</td>\n      <td>37.781438</td>\n      <td>-122.415239</td>\n    </tr>\n    <tr>\n      <th>2</th>\n      <td>University of California Hastings College of Law</td>\n      <td>376 Larkin St</td>\n      <td>37.781173</td>\n      <td>-122.416986</td>\n    </tr>\n    <tr>\n      <th>3</th>\n      <td>Academy of Art University</td>\n      <td>2300 Stockton St</td>\n      <td>37.807098</td>\n      <td>-122.410420</td>\n    </tr>\n    <tr>\n      <th>4</th>\n      <td>Academy of Art University</td>\n      <td>701 Chestnut St</td>\n      <td>37.803313</td>\n      <td>-122.415063</td>\n    </tr>\n  </tbody>\n</table>\n</div>",
                        "text/plain": "                                        Institution            Address  \\\n0  University of California Hastings College of Law  100 McAllister St   \n1  University of California Hastings College of Law  198 McAllister St   \n2  University of California Hastings College of Law      376 Larkin St   \n3                         Academy of Art University   2300 Stockton St   \n4                         Academy of Art University    701 Chestnut St   \n\n    Latitude   Longitude  \n0  37.780989 -122.413846  \n1  37.781438 -122.415239  \n2  37.781173 -122.416986  \n3  37.807098 -122.410420  \n4  37.803313 -122.415063  "
                    },
                    "execution_count": 10,
                    "metadata": {},
                    "output_type": "execute_result"
                }
            ],
            "source": "from opencage.geocoder import OpenCageGeocode\n\nfor index in edu_df.index:\n    location =  geocoder.geocode(edu_df.at[index, 'Address'] + ', San Francisco, CA, United States of America')\n    if len(location)>0:\n        edu_df.at[index, 'Latitude'] = location[0]['geometry']['lat']\n        edu_df.at[index, 'Longitude'] = location[0]['geometry']['lng']\n    sleep(1)\n    \nprint(\"Coordinates Obtained\")\n\nedu_df.head()"
        },
        {
            "cell_type": "markdown",
            "metadata": {},
            "source": "## Getting details of popular locations near the educational restaurants"
        },
        {
            "cell_type": "markdown",
            "metadata": {},
            "source": "We will beusing the foursquare API to get the details of the popular locations located near the above educational institutions. To achieve this objective we will be using the **explore** endpoint"
        },
        {
            "cell_type": "code",
            "execution_count": 14,
            "metadata": {},
            "outputs": [],
            "source": "def getNearbyVenues(names, latitudes, longitudes, radius=500):\n    \n    venues_list=[]\n    for name, lat, lng in zip(names, latitudes, longitudes):\n            \n        # create the API request URL\n        url = 'https://api.foursquare.com/v2/venues/explore?&client_id={}&client_secret={}&v={}&ll={},{}&radius={}&limit={}'.format(\n            CLIENT_ID, \n            CLIENT_SECRET, \n            VERSION, \n            lat, \n            lng, \n            radius, \n            LIMIT)\n            \n        # make the GET request\n        \n        sleep(1)\n        \n        results = requests.get(url).json()[\"response\"]['groups'][0]['items']\n        \n        # return only relevant information for each nearby venue\n        venues_list.append([(\n            name, \n            lat, \n            lng,\n            v['venue']['id'],\n            v['venue']['name'],\n            v['venue']['location']['lat'], \n            v['venue']['location']['lng'],\n            v['venue']['categories'][0]['name']) for v in results])\n\n    nearby_venues = pd.DataFrame([item for venue_list in venues_list for item in venue_list])\n    nearby_venues.columns = ['Neighborhood', \n                  'Neighborhood Latitude', \n                  'Neighborhood Longitude', \n                  'Venue id',\n                  'Venue', \n                  'Venue Latitude', \n                  'Venue Longitude', \n                  'Venue Category']\n    \n    return(nearby_venues)"
        },
        {
            "cell_type": "code",
            "execution_count": 13,
            "metadata": {},
            "outputs": [],
            "source": "edu_venues = getNearbyVenues(names=edu_df['Address'],\n                                   latitudes=edu_df['Latitude'],\n                                   longitudes=edu_df['Longitude']\n                                  )"
        },
        {
            "cell_type": "markdown",
            "metadata": {},
            "source": "The dataset contains details about the venue such as venue name, venue id, venue coordinates, venue category etc. Venue id wil be used to get further detail about the venue from *foursquare* "
        },
        {
            "cell_type": "code",
            "execution_count": 11,
            "metadata": {},
            "outputs": [
                {
                    "data": {
                        "text/html": "<div>\n<style scoped>\n    .dataframe tbody tr th:only-of-type {\n        vertical-align: middle;\n    }\n\n    .dataframe tbody tr th {\n        vertical-align: top;\n    }\n\n    .dataframe thead th {\n        text-align: right;\n    }\n</style>\n<table border=\"1\" class=\"dataframe\">\n  <thead>\n    <tr style=\"text-align: right;\">\n      <th></th>\n      <th>Neighborhood</th>\n      <th>Neighborhood Latitude</th>\n      <th>Neighborhood Longitude</th>\n      <th>Venue id</th>\n      <th>Venue</th>\n      <th>Venue Latitude</th>\n      <th>Venue Longitude</th>\n      <th>Venue Category</th>\n    </tr>\n  </thead>\n  <tbody>\n    <tr>\n      <th>0</th>\n      <td>100 McAllister St</td>\n      <td>37.780989</td>\n      <td>-122.413846</td>\n      <td>4f5d49a5e4b0695cbbe24694</td>\n      <td>The Strand</td>\n      <td>37.779888</td>\n      <td>-122.413138</td>\n      <td>Theater</td>\n    </tr>\n    <tr>\n      <th>1</th>\n      <td>100 McAllister St</td>\n      <td>37.780989</td>\n      <td>-122.413846</td>\n      <td>46d36f99f964a520594a1fe3</td>\n      <td>Orpheum Theatre</td>\n      <td>37.779315</td>\n      <td>-122.414790</td>\n      <td>Theater</td>\n    </tr>\n    <tr>\n      <th>2</th>\n      <td>100 McAllister St</td>\n      <td>37.780989</td>\n      <td>-122.413846</td>\n      <td>4a73812ff964a520a0dc1fe3</td>\n      <td>Alonzo King LINES Dance Center</td>\n      <td>37.780116</td>\n      <td>-122.412187</td>\n      <td>Dance Studio</td>\n    </tr>\n    <tr>\n      <th>3</th>\n      <td>100 McAllister St</td>\n      <td>37.780989</td>\n      <td>-122.413846</td>\n      <td>59b759e1646e387b4245f12a</td>\n      <td>Villon</td>\n      <td>37.780865</td>\n      <td>-122.412471</td>\n      <td>French Restaurant</td>\n    </tr>\n    <tr>\n      <th>4</th>\n      <td>100 McAllister St</td>\n      <td>37.780989</td>\n      <td>-122.413846</td>\n      <td>55da2db5498eb79ab95580cb</td>\n      <td>George and Lennie</td>\n      <td>37.781701</td>\n      <td>-122.415213</td>\n      <td>Coffee Shop</td>\n    </tr>\n  </tbody>\n</table>\n</div>",
                        "text/plain": "        Neighborhood  Neighborhood Latitude  Neighborhood Longitude  \\\n0  100 McAllister St              37.780989             -122.413846   \n1  100 McAllister St              37.780989             -122.413846   \n2  100 McAllister St              37.780989             -122.413846   \n3  100 McAllister St              37.780989             -122.413846   \n4  100 McAllister St              37.780989             -122.413846   \n\n                   Venue id                           Venue  Venue Latitude  \\\n0  4f5d49a5e4b0695cbbe24694                      The Strand       37.779888   \n1  46d36f99f964a520594a1fe3                 Orpheum Theatre       37.779315   \n2  4a73812ff964a520a0dc1fe3  Alonzo King LINES Dance Center       37.780116   \n3  59b759e1646e387b4245f12a                          Villon       37.780865   \n4  55da2db5498eb79ab95580cb               George and Lennie       37.781701   \n\n   Venue Longitude     Venue Category  \n0      -122.413138            Theater  \n1      -122.414790            Theater  \n2      -122.412187       Dance Studio  \n3      -122.412471  French Restaurant  \n4      -122.415213        Coffee Shop  "
                    },
                    "execution_count": 11,
                    "metadata": {},
                    "output_type": "execute_result"
                }
            ],
            "source": "edu_venues.head()"
        },
        {
            "cell_type": "markdown",
            "metadata": {},
            "source": "## Removing duplicates from the edu_venue dataframe"
        },
        {
            "cell_type": "code",
            "execution_count": 15,
            "metadata": {},
            "outputs": [
                {
                    "name": "stdout",
                    "output_type": "stream",
                    "text": "(3421, 8)\n\n After Removing duplicates \n\n(1876, 8)\n"
                }
            ],
            "source": "print(edu_venues.shape)\n\nprint(\"\\n After Removing duplicates \\n\")\n\nedu_venues.drop_duplicates(['Venue id'], keep='first', inplace=True)\n\nprint(edu_venues.shape)"
        },
        {
            "cell_type": "markdown",
            "metadata": {},
            "source": "## Getting restaurant details from popular locations list"
        },
        {
            "cell_type": "code",
            "execution_count": 16,
            "metadata": {},
            "outputs": [
                {
                    "name": "stdout",
                    "output_type": "stream",
                    "text": "(412, 8)\n"
                },
                {
                    "data": {
                        "text/html": "<div>\n<style scoped>\n    .dataframe tbody tr th:only-of-type {\n        vertical-align: middle;\n    }\n\n    .dataframe tbody tr th {\n        vertical-align: top;\n    }\n\n    .dataframe thead th {\n        text-align: right;\n    }\n</style>\n<table border=\"1\" class=\"dataframe\">\n  <thead>\n    <tr style=\"text-align: right;\">\n      <th></th>\n      <th>Neighborhood</th>\n      <th>Neighborhood Latitude</th>\n      <th>Neighborhood Longitude</th>\n      <th>Venue id</th>\n      <th>Venue</th>\n      <th>Venue Latitude</th>\n      <th>Venue Longitude</th>\n      <th>Venue Category</th>\n    </tr>\n  </thead>\n  <tbody>\n    <tr>\n      <th>3</th>\n      <td>100 McAllister St</td>\n      <td>37.780989</td>\n      <td>-122.413846</td>\n      <td>59b759e1646e387b4245f12a</td>\n      <td>Villon</td>\n      <td>37.780865</td>\n      <td>-122.412471</td>\n      <td>French Restaurant</td>\n    </tr>\n    <tr>\n      <th>8</th>\n      <td>100 McAllister St</td>\n      <td>37.780989</td>\n      <td>-122.413846</td>\n      <td>54c42de4498ee52a43a5ee44</td>\n      <td>The Flying Falafel</td>\n      <td>37.781323</td>\n      <td>-122.411138</td>\n      <td>Mediterranean Restaurant</td>\n    </tr>\n    <tr>\n      <th>11</th>\n      <td>100 McAllister St</td>\n      <td>37.780989</td>\n      <td>-122.413846</td>\n      <td>49d66c4ef964a520c95c1fe3</td>\n      <td>Morty's Delicatessen</td>\n      <td>37.781710</td>\n      <td>-122.415243</td>\n      <td>American Restaurant</td>\n    </tr>\n    <tr>\n      <th>18</th>\n      <td>100 McAllister St</td>\n      <td>37.780989</td>\n      <td>-122.413846</td>\n      <td>547a3a09498edded45384099</td>\n      <td>Golden Era Vegan</td>\n      <td>37.781495</td>\n      <td>-122.416822</td>\n      <td>Vegetarian / Vegan Restaurant</td>\n    </tr>\n    <tr>\n      <th>20</th>\n      <td>100 McAllister St</td>\n      <td>37.780989</td>\n      <td>-122.413846</td>\n      <td>5633e4a5498e430fc92b4b53</td>\n      <td>Yemen Kitchen</td>\n      <td>37.783372</td>\n      <td>-122.412736</td>\n      <td>Middle Eastern Restaurant</td>\n    </tr>\n  </tbody>\n</table>\n</div>",
                        "text/plain": "         Neighborhood  Neighborhood Latitude  Neighborhood Longitude  \\\n3   100 McAllister St              37.780989             -122.413846   \n8   100 McAllister St              37.780989             -122.413846   \n11  100 McAllister St              37.780989             -122.413846   \n18  100 McAllister St              37.780989             -122.413846   \n20  100 McAllister St              37.780989             -122.413846   \n\n                    Venue id                 Venue  Venue Latitude  \\\n3   59b759e1646e387b4245f12a                Villon       37.780865   \n8   54c42de4498ee52a43a5ee44    The Flying Falafel       37.781323   \n11  49d66c4ef964a520c95c1fe3  Morty's Delicatessen       37.781710   \n18  547a3a09498edded45384099      Golden Era Vegan       37.781495   \n20  5633e4a5498e430fc92b4b53         Yemen Kitchen       37.783372   \n\n    Venue Longitude                 Venue Category  \n3       -122.412471              French Restaurant  \n8       -122.411138       Mediterranean Restaurant  \n11      -122.415243            American Restaurant  \n18      -122.416822  Vegetarian / Vegan Restaurant  \n20      -122.412736      Middle Eastern Restaurant  "
                    },
                    "execution_count": 16,
                    "metadata": {},
                    "output_type": "execute_result"
                }
            ],
            "source": "res_data = edu_venues[edu_venues['Venue Category'].str.contains('restaurant', case=False)]\nprint(res_data.shape)\n\nres_data.head()"
        },
        {
            "cell_type": "markdown",
            "metadata": {},
            "source": "## Getting details about each restaurant (Including popularity statistics and facility details)"
        },
        {
            "cell_type": "markdown",
            "metadata": {},
            "source": "We will be the using the Venue id and venue endpoint for getting further details about each restaurant. The venue endpoint is a premium call and the free developer verified account has a limit of 500 calls per day.`"
        },
        {
            "cell_type": "code",
            "execution_count": 17,
            "metadata": {},
            "outputs": [],
            "source": "def getRestaurantDetails(names, vid):\n    \n    restaurant_list=[]\n    \n    \n    for name, res_id in zip(names, vid):\n       \n        sleep(1)\n        \n        # create the API request URL\n        url = 'https://api.foursquare.com/v2/venues/{}?client_id={}&client_secret={}&v={}'.format(\n            res_id, CLIENT_ID, CLIENT_SECRET, VERSION)\n        \n        # make the GET request\n        try:\n            result = requests.get(url).json()['response']['venue']\n        except Exception:\n            print(url)\n            traceback.print_exc()\n            continue\n        \n        res_pricetier = None\n        res_reservations = None\n        res_outdoor = None\n        res_wifi = None\n        res_delivery = None\n        res_music = None\n        res_rroom = None\n        res_proom = None\n        res_wheelchair = None\n        res_parking = None\n        \n        for group in result['attributes']['groups']:\n            try:\n                if group['type'].lower() == 'price':\n                    res_pricetier = group['items'][0]['priceTier']\n                    continue\n            except:\n                pass\n            \n            try:\n                if group['type'].lower() == 'reservations':\n                    res_reservations = group['items'][0]['displayValue']\n                    continue\n            except:\n                pass\n            try:\n                if group['type'].lower() == 'outdoorseating':\n                    res_outdoor = group['items'][0]['displayValue']\n                    continue\n            except:\n                pass\n            try:\n                if group['type'].lower() == 'wifi':\n                    res_wifi = group['items'][0]['displayValue']\n                    continue\n            except:\n                pass\n            try:\n                if group['type'].lower() == 'diningoptions':\n                    res_delivery = group['items'][0]['displayValue']\n                    continue\n            except:\n                pass\n            try:\n                if group['type'].lower() == 'music':\n                    res_music = group['items'][0]['displayValue']\n                    continue\n            except:\n                pass\n            try:\n                if group['type'].lower() == 'restroom':\n                    res_rroom = group['items'][0]['displayValue']\n                    continue\n            except:\n                pass\n            try:\n                if group['type'].lower() == 'privateroom':\n                    res_proom = group['items'][0]['displayValue']\n                    continue\n            except:\n                pass\n            try:\n                if group['type'].lower() == 'wheelchairaccessible':\n                    res_wheelchair = group['items'][0]['displayValue']\n                    continue\n            except:\n                pass\n            try:\n                if group['type'].lower() == 'parking':\n                    if 'no' in group['summary'].lower():\n                        res_parking = 'Not Avaliable'\n                    else:\n                        res_parking = 'Available'\n                        \n                    continue\n            except:\n                pass\n\n        # return only relevant information for each nearby venue\n        try:\n            restaurant_list.append([\n                name,  \n                result['name'],\n                result['id'],  \n                result['categories'][0]['name'],\n                result['likes']['count'],\n                result['photos']['count'],\n                result['rating'],\n                result['tips']['count'],\n                res_pricetier,\n                res_reservations,\n                res_outdoor,\n                res_wifi,\n                res_delivery,\n                res_music,\n                res_rroom,\n                res_proom,\n                res_wheelchair,\n                res_parking])\n        except:\n            print(url)\n            traceback.print_exc()\n            continue\n            \n    nearby_venues = pd.DataFrame([item for item in restaurant_list])\n\n    nearby_venues.columns = ['Neighborhood', \n            'Venue',\n            'Venue id',\n            'Venue Category',\n            'Venue Likes',\n            'Venue photos count',\n            'Venue rating', \n            'Venue Tips',\n            'Price Tier',\n            'Reservations',\n            'Outdoor',\n            'Wifi',\n            'Delivery',\n            'Music',\n            'Rest room',\n            'Private room',\n            'Wheel chair',\n            'Parking']\n        \n    return(nearby_venues)"
        },
        {
            "cell_type": "code",
            "execution_count": 19,
            "metadata": {},
            "outputs": [
                {
                    "name": "stdout",
                    "output_type": "stream",
                    "text": "(401, 21)\n"
                },
                {
                    "data": {
                        "text/html": "<div>\n<style scoped>\n    .dataframe tbody tr th:only-of-type {\n        vertical-align: middle;\n    }\n\n    .dataframe tbody tr th {\n        vertical-align: top;\n    }\n\n    .dataframe thead th {\n        text-align: right;\n    }\n</style>\n<table border=\"1\" class=\"dataframe\">\n  <thead>\n    <tr style=\"text-align: right;\">\n      <th></th>\n      <th>Neighborhood</th>\n      <th>Venue</th>\n      <th>Venue id</th>\n      <th>Venue Category</th>\n      <th>Venue Likes</th>\n      <th>Venue photos count</th>\n      <th>Venue rating</th>\n      <th>Venue Tips</th>\n      <th>Price Tier</th>\n      <th>Reservations</th>\n      <th>...</th>\n      <th>Wifi</th>\n      <th>Delivery</th>\n      <th>Music</th>\n      <th>Rest room</th>\n      <th>Private room</th>\n      <th>Wheel chair</th>\n      <th>Parking</th>\n      <th>Institution</th>\n      <th>Latitude</th>\n      <th>Longitude</th>\n    </tr>\n  </thead>\n  <tbody>\n    <tr>\n      <th>0</th>\n      <td>100 McAllister St</td>\n      <td>Villon</td>\n      <td>59b759e1646e387b4245f12a</td>\n      <td>French Restaurant</td>\n      <td>119</td>\n      <td>135</td>\n      <td>8.8</td>\n      <td>14</td>\n      <td>3.0</td>\n      <td>NaN</td>\n      <td>...</td>\n      <td>NaN</td>\n      <td>Delivery</td>\n      <td>NaN</td>\n      <td>NaN</td>\n      <td>NaN</td>\n      <td>NaN</td>\n      <td>Available</td>\n      <td>University of California Hastings College of Law</td>\n      <td>37.780989</td>\n      <td>-122.413846</td>\n    </tr>\n    <tr>\n      <th>1</th>\n      <td>100 McAllister St</td>\n      <td>The Flying Falafel</td>\n      <td>54c42de4498ee52a43a5ee44</td>\n      <td>Mediterranean Restaurant</td>\n      <td>271</td>\n      <td>132</td>\n      <td>8.7</td>\n      <td>58</td>\n      <td>2.0</td>\n      <td>No</td>\n      <td>...</td>\n      <td>NaN</td>\n      <td>Delivery</td>\n      <td>NaN</td>\n      <td>NaN</td>\n      <td>NaN</td>\n      <td>NaN</td>\n      <td>NaN</td>\n      <td>University of California Hastings College of Law</td>\n      <td>37.780989</td>\n      <td>-122.413846</td>\n    </tr>\n    <tr>\n      <th>2</th>\n      <td>100 McAllister St</td>\n      <td>Morty's Delicatessen</td>\n      <td>49d66c4ef964a520c95c1fe3</td>\n      <td>American Restaurant</td>\n      <td>36</td>\n      <td>39</td>\n      <td>8.1</td>\n      <td>31</td>\n      <td>1.0</td>\n      <td>No</td>\n      <td>...</td>\n      <td>NaN</td>\n      <td>Delivery</td>\n      <td>NaN</td>\n      <td>NaN</td>\n      <td>NaN</td>\n      <td>NaN</td>\n      <td>NaN</td>\n      <td>University of California Hastings College of Law</td>\n      <td>37.780989</td>\n      <td>-122.413846</td>\n    </tr>\n    <tr>\n      <th>3</th>\n      <td>100 McAllister St</td>\n      <td>Golden Era Vegan</td>\n      <td>547a3a09498edded45384099</td>\n      <td>Vegetarian / Vegan Restaurant</td>\n      <td>96</td>\n      <td>102</td>\n      <td>8.3</td>\n      <td>28</td>\n      <td>2.0</td>\n      <td>NaN</td>\n      <td>...</td>\n      <td>NaN</td>\n      <td>NaN</td>\n      <td>NaN</td>\n      <td>NaN</td>\n      <td>NaN</td>\n      <td>NaN</td>\n      <td>NaN</td>\n      <td>University of California Hastings College of Law</td>\n      <td>37.780989</td>\n      <td>-122.413846</td>\n    </tr>\n    <tr>\n      <th>4</th>\n      <td>100 McAllister St</td>\n      <td>Yemen Kitchen</td>\n      <td>5633e4a5498e430fc92b4b53</td>\n      <td>Middle Eastern Restaurant</td>\n      <td>28</td>\n      <td>39</td>\n      <td>8.3</td>\n      <td>9</td>\n      <td>2.0</td>\n      <td>No</td>\n      <td>...</td>\n      <td>NaN</td>\n      <td>Take-out</td>\n      <td>NaN</td>\n      <td>NaN</td>\n      <td>NaN</td>\n      <td>NaN</td>\n      <td>NaN</td>\n      <td>University of California Hastings College of Law</td>\n      <td>37.780989</td>\n      <td>-122.413846</td>\n    </tr>\n  </tbody>\n</table>\n<p>5 rows \u00d7 21 columns</p>\n</div>",
                        "text/plain": "        Neighborhood                 Venue                  Venue id  \\\n0  100 McAllister St                Villon  59b759e1646e387b4245f12a   \n1  100 McAllister St    The Flying Falafel  54c42de4498ee52a43a5ee44   \n2  100 McAllister St  Morty's Delicatessen  49d66c4ef964a520c95c1fe3   \n3  100 McAllister St      Golden Era Vegan  547a3a09498edded45384099   \n4  100 McAllister St         Yemen Kitchen  5633e4a5498e430fc92b4b53   \n\n                  Venue Category  Venue Likes  Venue photos count  \\\n0              French Restaurant          119                 135   \n1       Mediterranean Restaurant          271                 132   \n2            American Restaurant           36                  39   \n3  Vegetarian / Vegan Restaurant           96                 102   \n4      Middle Eastern Restaurant           28                  39   \n\n   Venue rating  Venue Tips  Price Tier Reservations  ... Wifi  Delivery  \\\n0           8.8          14         3.0          NaN  ...  NaN  Delivery   \n1           8.7          58         2.0           No  ...  NaN  Delivery   \n2           8.1          31         1.0           No  ...  NaN  Delivery   \n3           8.3          28         2.0          NaN  ...  NaN       NaN   \n4           8.3           9         2.0           No  ...  NaN  Take-out   \n\n  Music Rest room Private room Wheel chair    Parking  \\\n0   NaN       NaN          NaN         NaN  Available   \n1   NaN       NaN          NaN         NaN        NaN   \n2   NaN       NaN          NaN         NaN        NaN   \n3   NaN       NaN          NaN         NaN        NaN   \n4   NaN       NaN          NaN         NaN        NaN   \n\n                                        Institution   Latitude   Longitude  \n0  University of California Hastings College of Law  37.780989 -122.413846  \n1  University of California Hastings College of Law  37.780989 -122.413846  \n2  University of California Hastings College of Law  37.780989 -122.413846  \n3  University of California Hastings College of Law  37.780989 -122.413846  \n4  University of California Hastings College of Law  37.780989 -122.413846  \n\n[5 rows x 21 columns]"
                    },
                    "execution_count": 19,
                    "metadata": {},
                    "output_type": "execute_result"
                }
            ],
            "source": "res_venues = getRestaurantDetails(names=res_data['Neighborhood'],\n                             vid=res_data['Venue id'])\n\nres_venues.head()"
        },
        {
            "cell_type": "markdown",
            "metadata": {},
            "source": "The dataframe contains the detail about the venue statistics and venue facilities. The columns in the datset are:"
        },
        {
            "cell_type": "code",
            "execution_count": 21,
            "metadata": {},
            "outputs": [
                {
                    "data": {
                        "text/plain": "Index([u'Neighborhood', u'Venue', u'Venue id', u'Venue Category',\n       u'Venue Likes', u'Venue photos count', u'Venue rating', u'Venue Tips',\n       u'Price Tier', u'Reservations', u'Outdoor', u'Wifi', u'Delivery',\n       u'Music', u'Rest room', u'Private room', u'Wheel chair', u'Parking',\n       u'Institution', u'Latitude', u'Longitude'],\n      dtype='object')"
                    },
                    "execution_count": 21,
                    "metadata": {},
                    "output_type": "execute_result"
                }
            ],
            "source": "res_venues.columns"
        },
        {
            "cell_type": "markdown",
            "metadata": {},
            "source": "The columns 'Venue Likes', 'Venue photos count', 'Venue rating' and 'Venue Tips' contains the total number of likes, photos, ratings and comments. 'Price Tier' categorizes the price of the menu into different categories. 'Reservations', 'Outdoor', 'Wifi', 'Delivery', 'Music', 'Rest room', 'Private room' and 'Wheel chair' columns contain information about the type of facilities at the restaurant."
        },
        {
            "cell_type": "markdown",
            "metadata": {},
            "source": "## The data collected will be transformed and analyzed using cluster analysis to solve the business problem."
        }
    ],
    "metadata": {
        "kernelspec": {
            "display_name": "Python 3.6",
            "language": "python",
            "name": "python3"
        },
        "language_info": {
            "codemirror_mode": {
                "name": "ipython",
                "version": 3
            },
            "file_extension": ".py",
            "mimetype": "text/x-python",
            "name": "python",
            "nbconvert_exporter": "python",
            "pygments_lexer": "ipython3",
            "version": "3.6.9"
        }
    },
    "nbformat": 4,
    "nbformat_minor": 2
}