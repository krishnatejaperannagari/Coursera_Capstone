{
    "cells": [
        {
            "cell_type": "markdown",
            "metadata": {},
            "source": "## About San Fransisco:"
        },
        {
            "cell_type": "markdown",
            "metadata": {},
            "source": "San Fransisco is the **cultural, commercial, and financial center** of Northern California.  It the second most densely populated large U.S. city. As of 2018, San Francisco was the seventh-highest-income county in the United States, with a per capita personal income of $130,696. \n\nSan Fransisco is also a popular **tourist destination** and is also the headquarters of **major banking institutions and various other companies**.  The city, and the surrounding Bay Area, is a global center of the sciences and arts and is home to a number of **educational institutions**, such as the University of San Francisco (USF), University of California, San Francisco (UCSF), San Francisco State University (SFSU), and the California Academy of Sciences. (Source: [Wikipedia](https://en.wikipedia.org/wiki/San_Francisco))"
        },
        {
            "cell_type": "markdown",
            "metadata": {},
            "source": "## Background"
        },
        {
            "cell_type": "markdown",
            "metadata": {},
            "source": "San Fransisco being a densely populated business center has a lot of demand for restaurants and food-service operators due to the changing preference of residents to dine out or take prepared food home. The increase in demand is an outcome of changing lifestyles and lack of time or inclination to cook due to busy schedule. More and more singles, working parents and elderly people are demanding greater convenience when it comes to buying their meals.\n\nThough the future looks bright for the food-service industry overall, there are no guarantees in this business. Even the most successful operators will tell you this isn't a **get rich quick** industry. It's more like a **work hard and make a living** industry. Unlike tech indutry if the businessman **fail fast** in the restaurant industry, there\u2019s not always an opportunity to bounce back, pivot, or change focus. Instead the thousands of dollars and effort invested in the business is wasted.\n\nSan Francisco, is seeing more restaurants fail fast for a number of reasons. According to **H.G. Parsa**, a professor of University of Denver\u2019s Daniels College of Business, **30%** of new restaurants nationally close in the first year. Despite being  lauded as one of the top food cities in countless articles, the city is also one of the toughest markets in the U.S. to operate a business. The restaurant owners are witnessing heavy competition as there is **one restaurant for every 100 people** in San Francisco. San Fransisco is also ranked 5th in the world for **traffic congestion** (Source: [NBCBayArea](https://www.nbcbayarea.com/news/local/san-francisco-worst-traffic-congestion-report/200683/)). The traffic congestion combined with the **Netflix effect** is keeping people indoor paying way for **delivery services** to act aa a potential threat to the local restaurants. "
        },
        {
            "cell_type": "markdown",
            "metadata": {},
            "source": "## Business Problem"
        },
        {
            "cell_type": "markdown",
            "metadata": {},
            "source": "Based on the above arguments it is clear that for a restaurant to succeed it has to do the following things:\n\n* Identify the **right location** that will have more **footfall** and scope to serve the customers through **delivery** without facing much **traffic congestion**. This can be achieved only when the reataurant is located in a **densely populated location or in a business center**. Data Science can help us tremendously in identifying the right location.\n* Identifying the **right cuisine for the menu** that will give us a competitive edge in the market. The cost of running a fine dining restaurant is too high due to the **labour and food costs**. By keeping the menu **limited to one cuisine** restaurant can more efficiently plan for labor costs, can serve a lot more guests and improve **bottom-line profit**.\n* Identifying the **facilities and amenities** to be provided to **overcome the Netflix influence**. Amenities provided by the restaurants such as **parking, restroom, wifi etc.,** also have a significant impact on the customers visiting the restaurant. While providing and maintaining amenities such as parking involve **significant costs** the decisions regarding their provision has to be taken after studying customer needs and competitors thoroughly. \n\nThe solution developed from the current project will help the **individuals who are planning to open their own restaurant in San Fransisco**. It will provide a list of suggestions which if incorporated can **improve the profitability of the restaurant.**"
        },
        {
            "cell_type": "markdown",
            "metadata": {},
            "source": "## Target customer group"
        },
        {
            "cell_type": "markdown",
            "metadata": {},
            "source": "In the current study we will be focussing on the restaurants situated nearby **educational institutions**. The customer segment targetted by the restaurant we are planning to open will serve predominently students. The reason for choosing student population is that existing restaurants are mostly targeting employees and working class population. Restaurants competing for market share in student segment is **lesser** than the working calss segment.  Students also stay away from their home and have busy class schedules which further increase the **demand for food services**.  \n\nDue to the presence of **highly reputed educational institutions and job opportunities** students from all over the globe come to san fransisco to study. The money spent on **food related expenses by international students** is significantly higher and employing the **correct positioning strategy** will help our restaurant succeed. Further locating restaurant close to instituions can further reduce the **time taken for delivering the food to home.**"
        },
        {
            "cell_type": "markdown",
            "metadata": {},
            "source": "## Problem Statement"
        },
        {
            "cell_type": "markdown",
            "metadata": {},
            "source": "The questions answered in the capstone project are:\n* Question 1: *Which is the right location for starting a restaurant in San fransisco to serve the maximum number of students?*\n* Question 2: *Which cuisine in the menu will provide a competitive edge to in the highly contested San fransisco food services market?*\n* Question 3: *What type to amenities should be provied to improve customer satisfaction while maintaining the operational cost at the minimum level?*"
        }
    ],
    "metadata": {
        "kernelspec": {
            "display_name": "Python 3.6",
            "language": "python",
            "name": "python3"
        },
        "language_info": {
            "codemirror_mode": {
                "name": "ipython",
                "version": 3
            },
            "file_extension": ".py",
            "mimetype": "text/x-python",
            "name": "python",
            "nbconvert_exporter": "python",
            "pygments_lexer": "ipython3",
            "version": "3.6.9"
        }
    },
    "nbformat": 4,
    "nbformat_minor": 2
}