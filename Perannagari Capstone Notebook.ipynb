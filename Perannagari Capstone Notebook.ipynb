{
    "cells": [
        {
            "cell_type": "markdown",
            "metadata": {
                "collapsed": true
            },
            "source": "<a href=\"https://www.bigdatauniversity.com\"><img src=\"https://ibm.box.com/shared/static/cw2c7r3o20w9zn8gkecaeyjhgw3xdgbj.png\" width=\"400\" align=\"center\"></a>\n\n<h1 align=\"center\"><font size=\"5\">Data Science Capstone project</font></h1>"
        },
        {
            "cell_type": "markdown",
            "metadata": {},
            "source": "In this notebook I will be submitting the code related to the IBM data science specialization capstone project.\n\nThe project is integrated with [github repo.](https://github.com/krishnatejaperannagari/Coursera_Capstone)"
        },
        {
            "cell_type": "markdown",
            "metadata": {},
            "source": "### First assignment :"
        },
        {
            "cell_type": "markdown",
            "metadata": {},
            "source": "Create a new repository on your Github account and name it Coursera_Capstone. Now, start a Jupyter Notebook using any platform that you are comfortable with and do the following:\n1. Write some markdown to explain that this notebook will be mainly used for the capstone project.\n2. Import the pandas library as pd.\n3. Import the Numpy library as np.\n4. Print the following the statement: Hello Capstone Project Course!"
        },
        {
            "cell_type": "code",
            "execution_count": 3,
            "metadata": {},
            "outputs": [
                {
                    "name": "stdout",
                    "output_type": "stream",
                    "text": "Hello Capstone Project Course!\n"
                }
            ],
            "source": "import pandas as pd\nimport numpy as np\n\nprint(\"Hello Capstone Project Course!\")"
        }
    ],
    "metadata": {
        "kernelspec": {
            "display_name": "Python 3.6",
            "language": "python",
            "name": "python3"
        },
        "language_info": {
            "codemirror_mode": {
                "name": "ipython",
                "version": 3
            },
            "file_extension": ".py",
            "mimetype": "text/x-python",
            "name": "python",
            "nbconvert_exporter": "python",
            "pygments_lexer": "ipython3",
            "version": "3.6.9"
        }
    },
    "nbformat": 4,
    "nbformat_minor": 1
}